{
 "cells": [
  {
   "cell_type": "code",
   "execution_count": 1,
   "metadata": {
    "collapsed": true
   },
   "outputs": [],
   "source": [
    "import os\n",
    "import subprocess\n",
    "def module(*args):        \n",
    "    if isinstance(args[0], list):        \n",
    "        args = args[0]        \n",
    "    else:        \n",
    "        args = list(args)        \n",
    "    (output, error) = subprocess.Popen(['/usr/bin/modulecmd', 'python'] + args, stdout=subprocess.PIPE).communicate()\n",
    "    exec(output)    \n",
    "module('load', 'apps/java/jdk1.8.0_102/binary')    \n",
    "os.environ['PYSPARK_PYTHON'] = os.environ['HOME'] + '/.conda/envs/jupyter-spark/bin/python'"
   ]
  },
  {
   "cell_type": "code",
   "execution_count": 2,
   "metadata": {
    "collapsed": true
   },
   "outputs": [],
   "source": [
    "#import findspark\n",
    "#findspark.init()\n",
    "import pyspark\n",
    "\n",
    "from pyspark.sql import SparkSession\n",
    "\n",
    "spark = SparkSession.builder \\\n",
    "    .master(\"local[2]\") \\\n",
    "    .appName(\"COM6012 Spark Intro\") \\\n",
    "    .getOrCreate()\n",
    "\n",
    "sc = spark.sparkContext"
   ]
  },
  {
   "cell_type": "code",
   "execution_count": 13,
   "metadata": {
    "collapsed": true
   },
   "outputs": [],
   "source": [
    "from pyspark.sql.functions import split, regexp_extract\n",
    "\n",
    "from pyspark.sql.functions import from_unixtime, unix_timestamp, to_date, to_timestamp\n",
    "from pyspark.sql.types import *\n",
    "from pyspark.sql.functions import date_format\n",
    "import pyspark.sql.functions as f\n",
    "from pyspark.sql.functions import mean\n",
    "import matplotlib.pyplot as plt\n",
    "\n",
    "from pyspark.ml.evaluation import RegressionEvaluator\n",
    "from pyspark.ml.recommendation import ALS\n",
    "from pyspark.ml.recommendation import ALSModel\n",
    "from pyspark.sql import Row\n",
    "\n",
    "from pyspark.ml.clustering import KMeans\n",
    "from pyspark.ml.clustering import KMeansModel\n",
    "from pyspark.ml.evaluation import ClusteringEvaluator\n",
    "\n",
    "from pyspark.ml.linalg import Vectors\n",
    "from pyspark.sql.functions import udf\n",
    "from pyspark.ml.linalg import Vectors, VectorUDT\n",
    "\n",
    "\n",
    "\n",
    "%matplotlib inline"
   ]
  },
  {
   "cell_type": "markdown",
   "metadata": {},
   "source": [
    "## Question 1. Log Mining"
   ]
  },
  {
   "cell_type": "markdown",
   "metadata": {},
   "source": [
    "### Preprocessing of  Data"
   ]
  },
  {
   "cell_type": "code",
   "execution_count": 3,
   "metadata": {
    "collapsed": true
   },
   "outputs": [],
   "source": [
    "logFile=spark.read.text(\"Data/NASA_access_log_Jul95.gz\").cache()"
   ]
  },
  {
   "cell_type": "code",
   "execution_count": 4,
   "metadata": {
    "collapsed": true
   },
   "outputs": [],
   "source": [
    "# parsing our logFile into dataframe with 6 columns\n",
    "df = logFile.select(regexp_extract('value', r'^([^\\s]+\\s)', 1).alias('host'),\n",
    "                          regexp_extract('value', r'^.*\\[(\\d\\d/\\w{3}/\\d{4}:\\d{2}:\\d{2}:\\d{2} -\\d{4})]', 1).alias('timestamp'),\n",
    "                          regexp_extract('value', r'^.*\"\\w+\\s+([^\\s]+)\\s+HTTP.*\"', 1).alias('path'),\n",
    "                          regexp_extract('value', r'^.*\"\\s+([^\\s]+)', 1).cast('integer').alias('code'),\n",
    "                          regexp_extract('value', r'^.*\\s+(\\d+)$', 1).cast('integer').alias('bytes'),\n",
    "                   regexp_extract('value', r'^.*\\[(\\d\\d\\/\\w{3}\\/\\d{4}:\\d{2}:\\d{2}:\\d{2})',1).alias('times'))"
   ]
  },
  {
   "cell_type": "code",
   "execution_count": 5,
   "metadata": {},
   "outputs": [
    {
     "name": "stdout",
     "output_type": "stream",
     "text": [
      "+---------------------+--------------------------+-----------------------------------------------+----+-----+--------------------+\n",
      "|host                 |timestamp                 |path                                           |code|bytes|times               |\n",
      "+---------------------+--------------------------+-----------------------------------------------+----+-----+--------------------+\n",
      "|199.72.81.55         |01/Jul/1995:00:00:01 -0400|/history/apollo/                               |200 |6245 |01/Jul/1995:00:00:01|\n",
      "|unicomp6.unicomp.net |01/Jul/1995:00:00:06 -0400|/shuttle/countdown/                            |200 |3985 |01/Jul/1995:00:00:06|\n",
      "|199.120.110.21       |01/Jul/1995:00:00:09 -0400|/shuttle/missions/sts-73/mission-sts-73.html   |200 |4085 |01/Jul/1995:00:00:09|\n",
      "|burger.letters.com   |01/Jul/1995:00:00:11 -0400|/shuttle/countdown/liftoff.html                |304 |0    |01/Jul/1995:00:00:11|\n",
      "|199.120.110.21       |01/Jul/1995:00:00:11 -0400|/shuttle/missions/sts-73/sts-73-patch-small.gif|200 |4179 |01/Jul/1995:00:00:11|\n",
      "+---------------------+--------------------------+-----------------------------------------------+----+-----+--------------------+\n",
      "only showing top 5 rows\n",
      "\n"
     ]
    }
   ],
   "source": [
    "df.show(5,False)"
   ]
  },
  {
   "cell_type": "code",
   "execution_count": 6,
   "metadata": {
    "collapsed": true
   },
   "outputs": [],
   "source": [
    "# Data cleaning from null values\n",
    "df = df.na.fill({'bytes': 0})\n",
    "df = df.na.drop()"
   ]
  },
  {
   "cell_type": "markdown",
   "metadata": {},
   "source": [
    "### A. Find out the average number of requests on each of the seven days in a week (i.e., Monday, Tuesday, Wednesday, Thursday, Friday, Saturday, and Sunday) during July 1995. You need to report SEVEN numbers, one for each day of the week.  \n"
   ]
  },
  {
   "cell_type": "code",
   "execution_count": 7,
   "metadata": {
    "collapsed": true
   },
   "outputs": [],
   "source": [
    "res = df.select('*',to_timestamp(df.times, \"dd/MMM/yyyy:HH:mm:ss\").alias('full date')).drop('times')\n",
    "weekdays = res.select(to_date('full date').alias('date'), date_format('full date', 'E').alias('Weekday'))"
   ]
  },
  {
   "cell_type": "code",
   "execution_count": 10,
   "metadata": {
    "collapsed": true
   },
   "outputs": [],
   "source": [
    "week = weekdays.groupBy('date').count().select('count', date_format('date', 'E').alias('Weekday'))"
   ]
  },
  {
   "cell_type": "code",
   "execution_count": 11,
   "metadata": {
    "collapsed": true
   },
   "outputs": [],
   "source": [
    "average_per_day = week.groupBy('Weekday').agg(mean('count').alias('average'))\n",
    "sorted_average = average_per_day.sort(unix_timestamp(\"Weekday\", \"E\"))"
   ]
  },
  {
   "cell_type": "code",
   "execution_count": 12,
   "metadata": {
    "collapsed": true
   },
   "outputs": [],
   "source": [
    "weekday_average = (sorted_average\n",
    "                .select('Weekday', 'average')\n",
    "                .rdd\n",
    "                .map(lambda r: (r[0], r[1]))\n",
    "                .collect())\n",
    "weekday_average = weekday_average[4:]+weekday_average[:4]\n",
    "week, average = zip(*weekday_average)"
   ]
  },
  {
   "cell_type": "code",
   "execution_count": 13,
   "metadata": {},
   "outputs": [
    {
     "name": "stdout",
     "output_type": "stream",
     "text": [
      "+-------+-------+\n",
      "|Weekday|average|\n",
      "+-------+-------+\n",
      "|    Thu|90859.0|\n",
      "|    Fri|65771.5|\n",
      "|    Sat|46095.0|\n",
      "|    Sun|45647.5|\n",
      "|    Mon|75421.0|\n",
      "|    Tue|69460.0|\n",
      "|    Wed|79674.5|\n",
      "+-------+-------+\n",
      "\n"
     ]
    }
   ],
   "source": [
    "sorted_average.show()"
   ]
  },
  {
   "cell_type": "markdown",
   "metadata": {},
   "source": [
    "### B. Visualise the results in A above as a figure (e.g., bar graph or pie chart) and discuss your observations (e.g., any trend, contrast, something expected, unexpected or interesting) using 1 to 3 sentences. To plot on HPC, you need to activate your environment and install  matplotlib via conda install -c conda-forge matplotlib."
   ]
  },
  {
   "cell_type": "code",
   "execution_count": 14,
   "metadata": {},
   "outputs": [
    {
     "data": {
      "image/png": "[encoded data removed]",
      "text/plain": [
       "<Figure size 432x288 with 1 Axes>"
      ]
     },
     "metadata": {},
     "output_type": "display_data"
    }
   ],
   "source": [
    "plt.xlabel('Weekday')\n",
    "plt.ylabel('Average Number of Requests')\n",
    "plt.plot(week, average)\n",
    "plt.show() "
   ]
  },
  {
   "cell_type": "markdown",
   "metadata": {},
   "source": [
    "### C. Find out the top 20 most requested .gif images. Report the file name and number of requests for each of these 20 images. "
   ]
  },
  {
   "cell_type": "code",
   "execution_count": 15,
   "metadata": {
    "collapsed": true
   },
   "outputs": [],
   "source": [
    "gif_request = res.filter(res.path.contains(\".gif\" or \".GIF\")).cache()\n",
    "top_gif = gif_request.groupBy('path').count().sort('count', ascending=False)"
   ]
  },
  {
   "cell_type": "code",
   "execution_count": 16,
   "metadata": {},
   "outputs": [
    {
     "name": "stdout",
     "output_type": "stream",
     "text": [
      "+---------------------------------------------------+------+\n",
      "|path                                               |count |\n",
      "+---------------------------------------------------+------+\n",
      "|/images/NASA-logosmall.gif                         |111087|\n",
      "|/images/KSC-logosmall.gif                          |89530 |\n",
      "|/images/MOSAIC-logosmall.gif                       |60300 |\n",
      "|/images/USA-logosmall.gif                          |59845 |\n",
      "|/images/WORLD-logosmall.gif                        |59325 |\n",
      "|/images/ksclogo-medium.gif                         |58616 |\n",
      "|/images/launch-logo.gif                            |40841 |\n",
      "|/images/ksclogosmall.gif                           |33555 |\n",
      "|/history/apollo/images/apollo-logo1.gif            |31052 |\n",
      "|/shuttle/countdown/count.gif                       |22189 |\n",
      "|/shuttle/countdown/count70.gif                     |20921 |\n",
      "|/images/launchmedium.gif                           |20788 |\n",
      "|/shuttle/missions/sts-71/sts-71-patch-small.gif    |19832 |\n",
      "|/shuttle/missions/sts-70/sts-70-patch-small.gif    |18135 |\n",
      "|/history/apollo/images/footprint-logo.gif          |16168 |\n",
      "|/history/apollo/images/footprint-small.gif         |13912 |\n",
      "|/history/apollo/apollo-13/apollo-13-patch-small.gif|13004 |\n",
      "|/shuttle/countdown/video/livevideo.gif             |10143 |\n",
      "|/history/apollo/images/apollo-small.gif            |10089 |\n",
      "|/shuttle/countdown/video/livevideo2.gif            |9816  |\n",
      "+---------------------------------------------------+------+\n",
      "only showing top 20 rows\n",
      "\n"
     ]
    }
   ],
   "source": [
    "top_gif.show(20,False)"
   ]
  },
  {
   "cell_type": "markdown",
   "metadata": {},
   "source": [
    "### D. Visualise the results in C above as a figure (e.g., bar graph or pie chart) and discuss your observations (e.g., anything interesting) using 1 to 3 sentences."
   ]
  },
  {
   "cell_type": "code",
   "execution_count": 17,
   "metadata": {
    "collapsed": true
   },
   "outputs": [],
   "source": [
    "gifs = (top_gif.select('path', 'count').rdd.map(lambda r: (r[0], r[1])).collect())\n",
    "gif, requests = zip(*gifs)"
   ]
  },
  {
   "cell_type": "code",
   "execution_count": 18,
   "metadata": {},
   "outputs": [
    {
     "data": {
      "image/png": "[encoded data removed]",
      "text/plain": [
       "<Figure size 432x288 with 1 Axes>"
      ]
     },
     "metadata": {},
     "output_type": "display_data"
    }
   ],
   "source": [
    "patches, texts = plt.pie(requests[:20])\n",
    "\n",
    "plt.legend(patches, gif[:20], loc='lower right', bbox_to_anchor=(-1, 0),\n",
    "           fontsize=10)\n",
    "plt.title('Top 20 most requested .gif images')\n",
    "plt.show() "
   ]
  },
  {
   "cell_type": "markdown",
   "metadata": {},
   "source": [
    "## Question 2. Movie Recommendation  "
   ]
  },
  {
   "cell_type": "code",
   "execution_count": 4,
   "metadata": {
    "collapsed": true
   },
   "outputs": [],
   "source": [
    "ratings = spark.read.csv(\"Data/ml-20m/ratings.csv\", header=True).cache()"
   ]
  },
  {
   "cell_type": "code",
   "execution_count": 5,
   "metadata": {
    "collapsed": true
   },
   "outputs": [],
   "source": [
    "ratings = ratings.withColumn(\"userId\", ratings[\"userId\"].cast(IntegerType()))\n",
    "ratings = ratings.withColumn(\"movieId\", ratings[\"movieId\"].cast(IntegerType()))\n",
    "ratings = ratings.withColumn(\"rating\", ratings[\"rating\"].cast(DoubleType()))\n",
    "ratings = ratings.withColumn(\"timestamp\", ratings[\"timestamp\"].cast(IntegerType()))"
   ]
  },
  {
   "cell_type": "code",
   "execution_count": 6,
   "metadata": {},
   "outputs": [
    {
     "name": "stdout",
     "output_type": "stream",
     "text": [
      "+------+-------+------+----------+\n",
      "|userId|movieId|rating| timestamp|\n",
      "+------+-------+------+----------+\n",
      "|     1|      2|   3.5|1112486027|\n",
      "|     1|     29|   3.5|1112484676|\n",
      "|     1|     32|   3.5|1112484819|\n",
      "|     1|     47|   3.5|1112484727|\n",
      "|     1|     50|   3.5|1112484580|\n",
      "|     1|    112|   3.5|1094785740|\n",
      "|     1|    151|   4.0|1094785734|\n",
      "|     1|    223|   4.0|1112485573|\n",
      "|     1|    253|   4.0|1112484940|\n",
      "|     1|    260|   4.0|1112484826|\n",
      "|     1|    293|   4.0|1112484703|\n",
      "|     1|    296|   4.0|1112484767|\n",
      "|     1|    318|   4.0|1112484798|\n",
      "|     1|    337|   3.5|1094785709|\n",
      "|     1|    367|   3.5|1112485980|\n",
      "|     1|    541|   4.0|1112484603|\n",
      "|     1|    589|   3.5|1112485557|\n",
      "|     1|    593|   3.5|1112484661|\n",
      "|     1|    653|   3.0|1094785691|\n",
      "|     1|    919|   3.5|1094785621|\n",
      "+------+-------+------+----------+\n",
      "only showing top 20 rows\n",
      "\n"
     ]
    }
   ],
   "source": [
    "ratings.show()"
   ]
  },
  {
   "cell_type": "markdown",
   "metadata": {},
   "source": [
    "### A. Perform a five-fold cross validation of ALS-based recommendation on the rating data ratings.csv. Study two versions of ALS: one with the ALS setting in Lab 3 notebook with “drop” as the coldStartStartegy, and another different setting decided by you. For each of the five splits, report the Root Mean Square Error (RMSE) and Mean Absolute Error (MAE) for the two versions of ALS. Then compute and report the mean and standard deviation (std) of RMSE and MAE. Put all results (these numbers for RMSEs and MAEs in a Table in the report. Hint: check out the RegressionEvaluator API. "
   ]
  },
  {
   "cell_type": "code",
   "execution_count": 23,
   "metadata": {
    "collapsed": true
   },
   "outputs": [],
   "source": [
    "splits = ratings.randomSplit([0.2, 0.2, 0.2, 0.2, 0.2], seed = 10)\n",
    "als1 = ALS(maxIter=10, regParam=0.1, userCol=\"userId\", itemCol=\"movieId\", ratingCol=\"rating\",\n",
    "          coldStartStrategy=\"drop\")\n",
    "als2 = ALS(maxIter=5, regParam=0.1, userCol=\"userId\", itemCol=\"movieId\", ratingCol=\"rating\",\n",
    "          coldStartStrategy=\"drop\")\n",
    "evaluator1 = RegressionEvaluator(metricName=\"rmse\", labelCol=\"rating\",predictionCol=\"prediction\")\n",
    "evaluator2 = RegressionEvaluator(metricName=\"mae\", labelCol=\"rating\",predictionCol=\"prediction\")\n",
    "\n",
    "# store rmse, mae and model for the different splits\n",
    "rmse1 = []\n",
    "mae1 = []\n",
    "rmse2 = []\n",
    "mae2 = []\n",
    "mdl1 = []\n",
    "mdl2 = []\n",
    "\n",
    "\n",
    "for test in splits:\n",
    "\n",
    "    training = ratings.subtract(test)\n",
    "\n",
    "    model1 = als1.fit(training)\n",
    "    predictions1 = model1.transform(test)\n",
    "    rmse1.append(evaluator1.evaluate(predictions1))\n",
    "    mae1.append(evaluator2.evaluate(predictions1))\n",
    "    mdl1.append(model1)\n",
    "\n",
    "    model2 = als2.fit(training)\n",
    "    predictions2 = model2.transform(test)\n",
    "    rmse2.append(evaluator1.evaluate(predictions2))\n",
    "    mae2.append(evaluator2.evaluate(predictions2))\n",
    "    mdl2.append(model2)"
   ]
  },
  {
   "cell_type": "code",
   "execution_count": 24,
   "metadata": {},
   "outputs": [
    {
     "name": "stdout",
     "output_type": "stream",
     "text": [
      "Model 1\n",
      "RMSE: [0.8054755856425707, 0.8050334387627959, 0.8105421582542981, 0.8115185456129608, 0.8115634772279994]\n",
      "RMSE Mean: 0.8088266411\n",
      "RMSE Standard Deviation: 0.00294270547812\n",
      "MAE: [0.6249901276813115, 0.6245698170044005, 0.6328820886181125, 0.6334942963959526, 0.633614613882222]\n",
      "MAE Mean: 0.629910188716\n",
      "MAE Standard Deviation: 0.00419826996047\n",
      "Model 2\n",
      "RMSE: [0.8253819162338106, 0.825218808972137, 0.8246893919423764, 0.8259099684198886, 0.8260052014914236]\n",
      "RMSE Mean: 0.825441057412\n",
      "RMSE Standard Deviation: 0.00048083866356\n",
      "MAE: [0.6489031741714635, 0.6488484710951736, 0.6483965330927223, 0.6493120844599589, 0.6494646147972614]\n",
      "MAE Mean: 0.648984975523\n",
      "MAE Standard Deviation: 0.000376468724792\n"
     ]
    }
   ],
   "source": [
    "import numpy as np\n",
    "print('Model 1')\n",
    "print('RMSE:',rmse1)\n",
    "print('RMSE Mean:', np.mean(rmse1))\n",
    "print('RMSE Standard Deviation:', np.std(rmse1))\n",
    "print('MAE:',mae1)\n",
    "print('MAE Mean:', np.mean(mae1))\n",
    "print('MAE Standard Deviation:', np.std(mae1))\n",
    "\n",
    "print('Model 2')\n",
    "print('RMSE:',rmse2)\n",
    "print('RMSE Mean:', np.mean(rmse2))\n",
    "print('RMSE Standard Deviation:', np.std(rmse2))\n",
    "print('MAE:',mae2)\n",
    "print('MAE Mean:', np.mean(mae2))\n",
    "print('MAE Standard Deviation:', np.std(mae2))"
   ]
  },
  {
   "cell_type": "markdown",
   "metadata": {},
   "source": [
    "### C. After ALS, each movie is modelled with some factors. Use k-means with k=20 to cluster the movie factors (hint: see itemFactors in ALS API, id=movieid in this problem) learned with the ALS setting in Lab 3 notebook in A for each of the five splits. For each of the five split, use genome-scores.csv to find the top five tags for each of the top three largest clusters (i.e., 15 tags in total for each split) and report the names of these top tags using genome-tags.csv. Hint: For each cluster, sum up tag scores for all movies in it; find the largest five scores and their indexes; go to genome-tags to find their names."
   ]
  },
  {
   "cell_type": "code",
   "execution_count": 25,
   "metadata": {
    "collapsed": true
   },
   "outputs": [],
   "source": [
    "scores = spark.read.csv(\"Data/ml-20m/genome-scores.csv\", header=True).cache()"
   ]
  },
  {
   "cell_type": "code",
   "execution_count": 26,
   "metadata": {
    "collapsed": true
   },
   "outputs": [],
   "source": [
    "tags = spark.read.csv(\"Data/ml-20m/genome-tags.csv\", header=True).cache()"
   ]
  },
  {
   "cell_type": "code",
   "execution_count": 27,
   "metadata": {
    "collapsed": true
   },
   "outputs": [],
   "source": [
    "scores = scores.withColumn(\"tagId\", scores[\"tagId\"].cast(IntegerType()))\n",
    "scores = scores.withColumn(\"movieId\", scores[\"movieId\"].cast(IntegerType()))\n",
    "scores = scores.withColumn(\"relevance\", scores[\"relevance\"].cast(DoubleType()))"
   ]
  },
  {
   "cell_type": "code",
   "execution_count": 28,
   "metadata": {
    "collapsed": true
   },
   "outputs": [],
   "source": [
    "tags = tags.withColumn(\"tagId\", tags[\"tagId\"].cast(IntegerType()))"
   ]
  },
  {
   "cell_type": "code",
   "execution_count": 29,
   "metadata": {
    "collapsed": true
   },
   "outputs": [],
   "source": [
    "to_vector = udf(lambda a: Vectors.dense(a), VectorUDT())\n",
    "\n",
    "kmeans = KMeans(k=20, seed=1)\n",
    "\n",
    "best_tags1 = []\n",
    "best_tags2 = []\n",
    "for i in range(5):\n",
    "    dfItemFactors=mdl1[i].itemFactors\n",
    "    data = dfItemFactors.select(\"id\", to_vector(\"features\").alias(\"features\"))\n",
    "    model = kmeans.fit(data)\n",
    "    transformed = model.transform(data)\n",
    "\n",
    "    clusters = transformed.groupBy('prediction').count().sort('count', ascending=False).limit(3)\n",
    "    clusters1 = [int(row.prediction) for row in clusters.collect()]\n",
    "    \n",
    "    for j in clusters1:\n",
    "        allmovies1 = transformed.filter(transformed.prediction == j)\n",
    "        movies_tags = scores.join(allmovies1, [scores.movieId == allmovies1.id])\n",
    "        total = movies_tags.groupBy('tagId').agg(f.sum('relevance').alias('sum')).sort('sum', ascending=False).limit(5)\n",
    "        best_tags1.append(total.join(tags, ['tagId']))\n",
    "    \n",
    "    dfItemFactors=mdl2[i].itemFactors\n",
    "    data = dfItemFactors.select(\"id\", to_vector(\"features\").alias(\"features\"))\n",
    "    model = kmeans.fit(data)\n",
    "    transformed = model.transform(data)\n",
    "\n",
    "    clusters = transformed.groupBy('prediction').count().sort('count', ascending=False).limit(3)\n",
    "    clusters2 = [int(row.prediction) for row in clusters.collect()]\n",
    "\n",
    "    \n",
    "    for j in clusters2:\n",
    "        allmovies2 = transformed.filter(transformed.prediction == j)\n",
    "        movies_tags = scores.join(allmovies2, [scores.movieId == allmovies2.id])\n",
    "        total = movies_tags.groupBy('tagId').agg(f.sum('relevance').alias('sum')).sort('sum', ascending=False).limit(5)\n",
    "        best_tags2.append(total.join(tags, ['tagId']))"
   ]
  },
  {
   "cell_type": "code",
   "execution_count": 33,
   "metadata": {
    "scrolled": true
   },
   "outputs": [
    {
     "name": "stdout",
     "output_type": "stream",
     "text": [
      "Model 1, Split 1\n",
      "Cluster 1\n",
      "+-----+-----------------+------------+\n",
      "|tagId|              sum|         tag|\n",
      "+-----+-----------------+------------+\n",
      "|  445|558.1044999999999|        good|\n",
      "|  468|522.5029999999999|great ending|\n",
      "|  646|575.5952499999997|      mentor|\n",
      "|  742|        656.81375|    original|\n",
      "|  971|523.5417500000001|       story|\n",
      "+-----+-----------------+------------+\n",
      "\n",
      "Cluster 2\n",
      "+-----+-----------------+-----------------+\n",
      "|tagId|              sum|              tag|\n",
      "+-----+-----------------+-----------------+\n",
      "|  452|          643.441|  good soundtrack|\n",
      "|  468|         594.2085|     great ending|\n",
      "|  742|811.8684999999996|         original|\n",
      "|  936|612.9800000000002|social commentary|\n",
      "|  972|646.4452499999994|     storytelling|\n",
      "+-----+-----------------+-----------------+\n",
      "\n",
      "Cluster 3\n",
      "+-----+------------------+---------------+\n",
      "|tagId|               sum|            tag|\n",
      "+-----+------------------+---------------+\n",
      "|  302|313.38199999999983|       dialogue|\n",
      "|  452|294.08549999999997|good soundtrack|\n",
      "|  468|317.29724999999996|   great ending|\n",
      "|  646|323.31849999999974|         mentor|\n",
      "|  742|         456.90725|       original|\n",
      "+-----+------------------+---------------+\n",
      "\n",
      "Model 2, Split 1\n",
      "Cluster 1\n",
      "+-----+-----------------+------------+\n",
      "|tagId|              sum|         tag|\n",
      "+-----+-----------------+------------+\n",
      "|  445|547.6299999999995|        good|\n",
      "|  464|535.5724999999998|       great|\n",
      "|  468|530.1277499999999|great ending|\n",
      "|  646|602.4477499999995|      mentor|\n",
      "|  742|737.4157499999999|    original|\n",
      "+-----+-----------------+------------+\n",
      "\n",
      "Cluster 2\n",
      "+-----+------------------+---------------+\n",
      "|tagId|               sum|            tag|\n",
      "+-----+------------------+---------------+\n",
      "|  302|437.75449999999955|       dialogue|\n",
      "|  452|         440.77025|good soundtrack|\n",
      "|  468|444.81000000000023|   great ending|\n",
      "|  646|427.92849999999993|         mentor|\n",
      "|  742| 617.1827499999999|       original|\n",
      "+-----+------------------+---------------+\n",
      "\n",
      "Cluster 3\n",
      "+-----+-----------------+---------------+\n",
      "|tagId|              sum|            tag|\n",
      "+-----+-----------------+---------------+\n",
      "|  452|        491.18575|good soundtrack|\n",
      "|  468|512.5049999999999|   great ending|\n",
      "|  646|        506.45825|         mentor|\n",
      "|  742|648.5605000000003|       original|\n",
      "|  972|        507.26675|   storytelling|\n",
      "+-----+-----------------+---------------+\n",
      "\n",
      "Model 1, Split 2\n",
      "Cluster 1\n",
      "+-----+------------------+------------+\n",
      "|tagId|               sum|         tag|\n",
      "+-----+------------------+------------+\n",
      "|  445|           522.978|        good|\n",
      "|  468|494.78774999999996|great ending|\n",
      "|  646| 557.0452499999997|      mentor|\n",
      "|  742| 635.7547500000001|    original|\n",
      "|  971|472.72625000000005|       story|\n",
      "+-----+------------------+------------+\n",
      "\n",
      "Cluster 2\n",
      "+-----+------------------+---------------+\n",
      "|tagId|               sum|            tag|\n",
      "+-----+------------------+---------------+\n",
      "|  169|          317.4975|      brutality|\n",
      "|  302|314.05999999999995|       dialogue|\n",
      "|  452| 318.9972500000002|good soundtrack|\n",
      "|  468| 319.2789999999999|   great ending|\n",
      "|  742|468.41249999999997|       original|\n",
      "+-----+------------------+---------------+\n",
      "\n",
      "Cluster 3\n",
      "+-----+-----------------+------------+\n",
      "|tagId|              sum|         tag|\n",
      "+-----+-----------------+------------+\n",
      "|  270|        626.30275|   criterion|\n",
      "|  323|591.1612500000002|       drama|\n",
      "|  465|581.7865000000003|great acting|\n",
      "|  742|        784.47475|    original|\n",
      "| 1008|609.9665000000003|       talky|\n",
      "+-----+-----------------+------------+\n",
      "\n",
      "Model 2, Split 2\n",
      "Cluster 1\n",
      "+-----+------------------+---------------+\n",
      "|tagId|               sum|            tag|\n",
      "+-----+------------------+---------------+\n",
      "|  302|355.13974999999976|       dialogue|\n",
      "|  452|321.96649999999994|good soundtrack|\n",
      "|  468|355.60774999999984|   great ending|\n",
      "|  646| 377.0462499999997|         mentor|\n",
      "|  742| 514.4222499999998|       original|\n",
      "+-----+------------------+---------------+\n",
      "\n",
      "Cluster 2\n",
      "+-----+-----------------+---------------+\n",
      "|tagId|              sum|            tag|\n",
      "+-----+-----------------+---------------+\n",
      "|  270|718.8080000000004|      criterion|\n",
      "|  323|735.1967500000001|          drama|\n",
      "|  452|724.3032499999997|good soundtrack|\n",
      "|  646|726.6547499999997|         mentor|\n",
      "|  742|981.1402499999997|       original|\n",
      "+-----+-----------------+---------------+\n",
      "\n",
      "Cluster 3\n",
      "+-----+------------------+------------+\n",
      "|tagId|               sum|         tag|\n",
      "+-----+------------------+------------+\n",
      "|  299| 444.6780000000003|     destiny|\n",
      "|  445|485.21599999999984|        good|\n",
      "|  468|438.69149999999996|great ending|\n",
      "|  646|         526.60625|      mentor|\n",
      "|  742| 597.3110000000003|    original|\n",
      "+-----+------------------+------------+\n",
      "\n",
      "Model 1, Split 3\n",
      "Cluster 1\n",
      "+-----+------------------+---------------+\n",
      "|tagId|               sum|            tag|\n",
      "+-----+------------------+---------------+\n",
      "|  302|190.63700000000006|       dialogue|\n",
      "|  452|167.85324999999995|good soundtrack|\n",
      "|  468|          192.5685|   great ending|\n",
      "|  646|203.14075000000003|         mentor|\n",
      "|  742|284.14574999999996|       original|\n",
      "+-----+------------------+---------------+\n",
      "\n",
      "Cluster 2\n",
      "+-----+------------------+---------------+\n",
      "|tagId|               sum|            tag|\n",
      "+-----+------------------+---------------+\n",
      "|  302|408.24849999999986|       dialogue|\n",
      "|  452|406.96050000000014|good soundtrack|\n",
      "|  468|413.64125000000007|   great ending|\n",
      "|  646| 397.9499999999999|         mentor|\n",
      "|  742| 553.9842500000001|       original|\n",
      "+-----+------------------+---------------+\n",
      "\n",
      "Cluster 3\n",
      "+-----+-----------------+---------------+\n",
      "|tagId|              sum|            tag|\n",
      "+-----+-----------------+---------------+\n",
      "|  323|584.5250000000003|          drama|\n",
      "|  452|529.9020000000002|good soundtrack|\n",
      "|  468|528.2197499999999|   great ending|\n",
      "|  646|        589.38875|         mentor|\n",
      "|  742|        713.83525|       original|\n",
      "+-----+-----------------+---------------+\n",
      "\n",
      "Model 2, Split 3\n",
      "Cluster 1\n",
      "+-----+------------------+------------+\n",
      "|tagId|               sum|         tag|\n",
      "+-----+------------------+------------+\n",
      "|  302|364.41899999999987|    dialogue|\n",
      "|  468| 365.0849999999997|great ending|\n",
      "|  646|392.70824999999974|      mentor|\n",
      "|  742| 528.1217499999998|    original|\n",
      "|  971| 333.1362500000001|       story|\n",
      "+-----+------------------+------------+\n",
      "\n",
      "Cluster 2\n",
      "+-----+------------------+-----------+\n",
      "|tagId|               sum|        tag|\n",
      "+-----+------------------+-----------+\n",
      "|  270| 580.9127499999998|  criterion|\n",
      "|  351| 484.6727499999996|  enigmatic|\n",
      "|  640|457.27599999999984|melancholic|\n",
      "|  742| 632.0682499999998|   original|\n",
      "| 1008| 508.2962500000002|      talky|\n",
      "+-----+------------------+-----------+\n",
      "\n",
      "Cluster 3\n",
      "+-----+-----------------+---------------+\n",
      "|tagId|              sum|            tag|\n",
      "+-----+-----------------+---------------+\n",
      "|  452|635.2717500000001|good soundtrack|\n",
      "|  468|619.4814999999999|   great ending|\n",
      "|  646|620.1712500000001|         mentor|\n",
      "|  742|          810.983|       original|\n",
      "|  972|641.1469999999998|   storytelling|\n",
      "+-----+-----------------+---------------+\n",
      "\n",
      "Model 1, Split 4\n",
      "Cluster 1\n",
      "+-----+------------------+---------------+\n",
      "|tagId|               sum|            tag|\n",
      "+-----+------------------+---------------+\n",
      "|  302| 284.6092500000001|       dialogue|\n",
      "|  452|          263.1835|good soundtrack|\n",
      "|  468| 286.0207500000001|   great ending|\n",
      "|  646|283.46074999999985|         mentor|\n",
      "|  742| 408.3852499999999|       original|\n",
      "+-----+------------------+---------------+\n",
      "\n",
      "Cluster 2\n",
      "+-----+-----------------+------------+\n",
      "|tagId|              sum|         tag|\n",
      "+-----+-----------------+------------+\n",
      "|  270|705.6470000000002|   criterion|\n",
      "|  536|563.8367500000003|imdb top 250|\n",
      "|  742|682.9115000000005|    original|\n",
      "|  867|541.8912499999997|     runaway|\n",
      "| 1008|623.8439999999997|       talky|\n",
      "+-----+-----------------+------------+\n",
      "\n",
      "Cluster 3\n",
      "+-----+-----------------+-----------------+\n",
      "|tagId|              sum|              tag|\n",
      "+-----+-----------------+-----------------+\n",
      "|  452|        662.52325|  good soundtrack|\n",
      "|  742|848.0674999999998|         original|\n",
      "|  936|617.6819999999998|social commentary|\n",
      "|  972|648.1944999999996|     storytelling|\n",
      "| 1104|627.3739999999998|            weird|\n",
      "+-----+-----------------+-----------------+\n",
      "\n",
      "Model 2, Split 4\n",
      "Cluster 1\n"
     ]
    },
    {
     "name": "stdout",
     "output_type": "stream",
     "text": [
      "+-----+------------------+---------------+\n",
      "|tagId|               sum|            tag|\n",
      "+-----+------------------+---------------+\n",
      "|  302|218.30449999999996|       dialogue|\n",
      "|  452|200.76174999999995|good soundtrack|\n",
      "|  468|218.40725000000003|   great ending|\n",
      "|  646|226.78000000000003|         mentor|\n",
      "|  742| 321.6562500000001|       original|\n",
      "+-----+------------------+---------------+\n",
      "\n",
      "Cluster 2\n",
      "+-----+------------------+---------------+\n",
      "|tagId|               sum|            tag|\n",
      "+-----+------------------+---------------+\n",
      "|  302|463.98624999999987|       dialogue|\n",
      "|  452|464.59650000000005|good soundtrack|\n",
      "|  468| 470.3392500000001|   great ending|\n",
      "|  646| 450.1154999999999|         mentor|\n",
      "|  742| 635.6487499999998|       original|\n",
      "+-----+------------------+---------------+\n",
      "\n",
      "Cluster 3\n",
      "+-----+-----------------+------------+\n",
      "|tagId|              sum|         tag|\n",
      "+-----+-----------------+------------+\n",
      "|  445|536.4554999999999|        good|\n",
      "|  468|496.3189999999999|great ending|\n",
      "|  646|569.1139999999997|      mentor|\n",
      "|  742|651.0325000000003|    original|\n",
      "|  971|511.5707500000002|       story|\n",
      "+-----+-----------------+------------+\n",
      "\n",
      "Model 1, Split 5\n",
      "Cluster 1\n",
      "+-----+------------------+------------+\n",
      "|tagId|               sum|         tag|\n",
      "+-----+------------------+------------+\n",
      "|  302|312.98249999999996|    dialogue|\n",
      "|  445|296.86325000000005|        good|\n",
      "|  468| 323.4774999999998|great ending|\n",
      "|  646|         345.66575|      mentor|\n",
      "|  742| 461.9722500000001|    original|\n",
      "+-----+------------------+------------+\n",
      "\n",
      "Cluster 2\n",
      "+-----+-----------------+---------------+\n",
      "|tagId|              sum|            tag|\n",
      "+-----+-----------------+---------------+\n",
      "|  452|706.1442499999998|good soundtrack|\n",
      "|  468|        695.10925|   great ending|\n",
      "|  646|697.3799999999998|         mentor|\n",
      "|  742|907.7314999999999|       original|\n",
      "|  972|705.1489999999999|   storytelling|\n",
      "+-----+-----------------+---------------+\n",
      "\n",
      "Cluster 3\n",
      "+-----+------------------+-----------+\n",
      "|tagId|               sum|        tag|\n",
      "+-----+------------------+-----------+\n",
      "|  270| 559.8057500000003|  criterion|\n",
      "|  351|425.53200000000015|  enigmatic|\n",
      "|  443| 405.3792500000001|golden palm|\n",
      "|  742|         481.48625|   original|\n",
      "| 1008| 468.2872499999999|      talky|\n",
      "+-----+------------------+-----------+\n",
      "\n",
      "Model 2, Split 5\n",
      "Cluster 1\n",
      "+-----+------------------+---------------+\n",
      "|tagId|               sum|            tag|\n",
      "+-----+------------------+---------------+\n",
      "|  302|351.10649999999987|       dialogue|\n",
      "|  452|          317.1125|good soundtrack|\n",
      "|  468|351.08949999999993|   great ending|\n",
      "|  646| 363.2429999999999|         mentor|\n",
      "|  742| 504.6527499999999|       original|\n",
      "+-----+------------------+---------------+\n",
      "\n",
      "Cluster 2\n",
      "+-----+-----------------+---------------+\n",
      "|tagId|              sum|            tag|\n",
      "+-----+-----------------+---------------+\n",
      "|  452|734.5772499999998|good soundtrack|\n",
      "|  468|         699.5085|   great ending|\n",
      "|  646|698.0962499999998|         mentor|\n",
      "|  742|949.6967499999998|       original|\n",
      "|  972|741.5692499999992|   storytelling|\n",
      "+-----+-----------------+---------------+\n",
      "\n",
      "Cluster 3\n",
      "+-----+-----------------+------------+\n",
      "|tagId|              sum|         tag|\n",
      "+-----+-----------------+------------+\n",
      "|  445|615.1695000000002|        good|\n",
      "|  468|560.4332499999999|great ending|\n",
      "|  646|624.8887499999997|      mentor|\n",
      "|  742|723.0157500000001|    original|\n",
      "|  971|569.2650000000003|       story|\n",
      "+-----+-----------------+------------+\n",
      "\n"
     ]
    }
   ],
   "source": [
    "for i in range(5):\n",
    "    print('Model 1, Split',i+1)\n",
    "    for j in range(3):\n",
    "        print('Cluster', j+1)\n",
    "        best_tags1[(3*i)+j].show()\n",
    "    print('Model 2, Split',i+1)\n",
    "    for j in range(3):\n",
    "        print('Cluster', j+1)\n",
    "        best_tags2[(3*i)+j].show()"
   ]
  }
 ],
 "metadata": {
  "anaconda-cloud": {},
  "kernelspec": {
   "display_name": "Python [conda env:jupyter-spark]",
   "language": "python",
   "name": "conda-env-jupyter-spark-py"
  },
  "language_info": {
   "codemirror_mode": {
    "name": "ipython",
    "version": 3
   },
   "file_extension": ".py",
   "mimetype": "text/x-python",
   "name": "python",
   "nbconvert_exporter": "python",
   "pygments_lexer": "ipython3",
   "version": "3.6.5"
  }
 },
 "nbformat": 4,
 "nbformat_minor": 2
}
